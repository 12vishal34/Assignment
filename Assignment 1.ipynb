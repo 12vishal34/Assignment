{
 "cells": [
  {
   "cell_type": "code",
   "execution_count": 9,
   "id": "5ebbfbfb-bb51-4ad1-96f0-2960e6ed76e2",
   "metadata": {},
   "outputs": [],
   "source": [
    "#1. Who developed python programming language ?\n",
    "#Answer: Python programming language was developed by Guido Van Rossum."
   ]
  },
  {
   "cell_type": "code",
   "execution_count": 10,
   "id": "c1cc2628-ffcb-4fd8-9209-5ff13e8cebf8",
   "metadata": {},
   "outputs": [],
   "source": [
    "#2. Which type of programming does python support ?\n",
    "#Answer: Python supports multiple programming paradigms including \n",
    "#Object-Oriented programming,Functional programming,procedural programming."
   ]
  },
  {
   "cell_type": "code",
   "execution_count": 6,
   "id": "f742f0a8-143a-4222-9fdb-b1dba1de591b",
   "metadata": {},
   "outputs": [],
   "source": [
    "#3.Is python case sensitive when dealing with identifiers ?\n",
    "#Answer: Yes, Python is a case sensitive when dealing with identifiers."
   ]
  },
  {
   "cell_type": "code",
   "execution_count": 11,
   "id": "a91dcd49-560e-45cb-9dc9-bed3d469a952",
   "metadata": {},
   "outputs": [],
   "source": [
    "#4. What is the correct extension of the python file ?\n",
    "#Answer:The correct extension for python file is\".py\" ."
   ]
  },
  {
   "cell_type": "code",
   "execution_count": 24,
   "id": "e568336d-d217-4007-bf46-4a5611239d74",
   "metadata": {},
   "outputs": [],
   "source": [
    "#5.Is python code compiled or interpreted?\n",
    "#Answer:python code is interpreted,not compiled."
   ]
  },
  {
   "cell_type": "code",
   "execution_count": 14,
   "id": "cebd4b52-4aa0-46ab-b274-0a02e538c297",
   "metadata": {},
   "outputs": [],
   "source": [
    "#6.Name a few blocks of code used to define in python language ?\n",
    "#Answer:Indentation is used to define a block of code in python. \n",
    "#some common blocks of code in python include:\n",
    "##fuction,defined using \"def\" keyword\n",
    "##classes,defined using \"class\" keyword\n",
    "##conditionalstatement, such as \"if\" and \"else\"\n",
    "##loops,such as \"for\" and \"while\"."
   ]
  },
  {
   "cell_type": "code",
   "execution_count": 25,
   "id": "f964f183-5e0b-4fce-9a2a-1ee1106d2edb",
   "metadata": {},
   "outputs": [],
   "source": [
    "#7.State a character used to give single-line comments in python?\n",
    "#Answer:we write a single-line comments by adding a single # character before any statement or line of code."
   ]
  },
  {
   "cell_type": "code",
   "execution_count": 16,
   "id": "8542922a-7e02-4aa0-9076-e14e1547fe56",
   "metadata": {},
   "outputs": [],
   "source": [
    "#8.Mention functions which can help us to find the version of python that we are currently working on?\n",
    "#Answer:The function \"sys. version\"can help us to find the version of python that we are currently working on."
   ]
  },
  {
   "cell_type": "code",
   "execution_count": 17,
   "id": "371273cd-bfd7-48f2-9509-47d8f5e045fa",
   "metadata": {},
   "outputs": [],
   "source": [
    "#9.Python supports the creation of anonymous functions at runtime,using a construct called______.\n",
    "#Answer:lambda function."
   ]
  },
  {
   "cell_type": "code",
   "execution_count": 18,
   "id": "7f6b535b-8697-433f-ab7f-1942f17d408a",
   "metadata": {},
   "outputs": [],
   "source": [
    "#10.What does pip stand for pyhton?\n",
    "#Answer:pip stands for \"Preferred Installer Program."
   ]
  },
  {
   "cell_type": "code",
   "execution_count": 19,
   "id": "b2893530-d34c-4aab-b3e6-69565a7d5e2e",
   "metadata": {},
   "outputs": [],
   "source": [
    "#11:Mention a few built-in functions in python?\n",
    "#Answer: print()function, type()function, len() function, range() function, sum() function, 'int()' 'float()' 'str()' function ."
   ]
  },
  {
   "cell_type": "code",
   "execution_count": 20,
   "id": "6319af0b-60f8-4d10-8a89-c8fc95104ec9",
   "metadata": {},
   "outputs": [],
   "source": [
    "#12.What is the maximum possible length of an identifier in python?\n",
    "#Answer: In Pyhton, an identifier have a maximum length of 79 character ."
   ]
  },
  {
   "cell_type": "code",
   "execution_count": 21,
   "id": "4c3219e0-264a-4ce2-9bda-cbd27291dd3b",
   "metadata": {},
   "outputs": [],
   "source": [
    "#13.What are the benefits of using python?\n",
    "#Answer:Python has several benefits including:\n",
    "##1 python is easy to learn.\n",
    "##2 python is a high-level programming language.\n",
    "##3 python has large standard libary.\n",
    "##4 python canrun on variety of operating systems including windows,macOS,linux."
   ]
  },
  {
   "cell_type": "code",
   "execution_count": 22,
   "id": "cb6d5c6a-ead1-4020-9e2e-0c11743bb1b0",
   "metadata": {},
   "outputs": [],
   "source": [
    "#14.How is memory managed in python?\n",
    "#Answer:Memory management in Python involves a private heap containing all Python objects and data structures. The management of this private heap is ensured internally by the Python memory manager."
   ]
  },
  {
   "cell_type": "code",
   "execution_count": 23,
   "id": "aed45e80-6303-4a8c-ab51-23d31bdcd8ea",
   "metadata": {},
   "outputs": [],
   "source": [
    "#15.How to install python on windows and set path variables?\n",
    "#Answer:#Step 1 − Select Version of Python to Install\n",
    "        #Step 2 − Download Python Executable Installer\n",
    "        #Step 3 − Run Executable Installer\n",
    "        #Step 4 − Verify Python is installed on Windows\n",
    "        #Step 5 − Verify Pip was installed\n",
    "#STEPS to set path variables in windows:\n",
    "##step1-Right-clicking This PC and going to Properties.\n",
    "\n",
    "##step2-Clicking on the Advanced system settings in the menu on the left.\n",
    "\n",
    "##step3-Clicking on the Environment Variables button o​n the bottom right.\n",
    "\n",
    "##step4-In the System variables section, selecting the Path variable and clicking on Edit. The next screen will show all the directories that are currently a part of the PATH variable.\n",
    "\n",
    "##step5-Clicking on New and entering Python’s install directory"
   ]
  },
  {
   "cell_type": "code",
   "execution_count": null,
   "id": "3b15c6fb-ed8a-404a-95dd-12ba4edc2d75",
   "metadata": {},
   "outputs": [],
   "source": [
    "#16.Is indentation required in python?\n",
    "#Answer:Yes, indentation is required in python to define blocks of code."
   ]
  }
 ],
 "metadata": {
  "kernelspec": {
   "display_name": "Python 3 (ipykernel)",
   "language": "python",
   "name": "python3"
  },
  "language_info": {
   "codemirror_mode": {
    "name": "ipython",
    "version": 3
   },
   "file_extension": ".py",
   "mimetype": "text/x-python",
   "name": "python",
   "nbconvert_exporter": "python",
   "pygments_lexer": "ipython3",
   "version": "3.10.6"
  }
 },
 "nbformat": 4,
 "nbformat_minor": 5
}
